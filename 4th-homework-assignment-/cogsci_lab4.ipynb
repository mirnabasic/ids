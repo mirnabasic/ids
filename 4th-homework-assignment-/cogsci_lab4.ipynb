{
 "cells": [
  {
   "cell_type": "markdown",
   "id": "30e9ce05",
   "metadata": {},
   "source": [
    "# Laboratory exercise 4\n",
    "\n",
    "In this laboratory exercise you will use the questionnaire and answers given below"
   ]
  },
  {
   "cell_type": "code",
   "execution_count": 1,
   "id": "d6820020",
   "metadata": {},
   "outputs": [],
   "source": [
    "import pandas as pd"
   ]
  },
  {
   "cell_type": "code",
   "execution_count": null,
   "id": "c53f916c",
   "metadata": {},
   "outputs": [],
   "source": [
    "questionnaire = pd.DataFrame({'Q1': [1, 2, 2, 3, 2, 2, 3, 3, 2, 3],\n",
    "                              'Q2': [1, 1, 1, 2, 3, 3, 2, 3, 3, 3],\n",
    "                              'Q3': [1, 1, 2, 1, 2, 3, 3, 3, 2, 3]})"
   ]
  },
  {
   "cell_type": "markdown",
   "id": "ce36a49d",
   "metadata": {},
   "source": [
    "1. Write a function to detrmine the realiability of the questionnaire answers with Cronbach's Alpha."
   ]
  },
  {
   "cell_type": "code",
   "execution_count": 2,
   "id": "609fe16f",
   "metadata": {},
   "outputs": [
    {
     "name": "stdout",
     "output_type": "stream",
     "text": [
      "Cronbach's Alpha: 0.7734\n"
     ]
    }
   ],
   "source": [
    "def cronbach_alpha(data):\n",
    "\n",
    "    k = data.shape[1]\n",
    "    item_variances = data.var()\n",
    "    \n",
    "    total_score_var = data.sum(axis=1).var()\n",
    "    \n",
    "    alpha = (k / (k - 1)) * (1 - (item_variances.sum() / total_score_var))\n",
    "    \n",
    "    return alpha\n",
    "\n",
    "questionnaire = pd.DataFrame({'Q1': [1, 2, 2, 3, 2, 2, 3, 3, 2, 3],\n",
    "                              'Q2': [1, 1, 1, 2, 3, 3, 2, 3, 3, 3],\n",
    "                              'Q3': [1, 1, 2, 1, 2, 3, 3, 3, 2, 3]})\n",
    "\n",
    "alpha = cronbach_alpha(questionnaire)\n",
    "print(f\"Cronbach's Alpha: {alpha:.4f}\")"
   ]
  },
  {
   "cell_type": "markdown",
   "id": "69cb9d0a",
   "metadata": {},
   "source": [
    "2. Explain the differences between in-house data labeling, crowdsourcing and outsourcing. "
   ]
  },
  {
   "cell_type": "markdown",
   "id": "b60b513b",
   "metadata": {},
   "source": [
    "These are various data labeling methods, each with its own advantages and drawbacks. In-house data labeling ensures the highest quality of work, particularly crucial in fields such as healthcare; however, it is a time-intensive process. Quality assurance is maintained by annotators, often scientists or domain experts within the organization.\n",
    "\n",
    "On the other hand, crowdsourcing typically involves numerous freelancers, and specific expertise is usually not required as the annotated datasets often involve trivial data, such as images of animals and plants. Crowdsourcing is often cost-effective due to the simplicity of the tasks.\n",
    "\n",
    "Outsourcing serves as a middle ground between crowdsourcing and in-house labeling, involving the delegation of tasks to an external entity or organization with trained annotators. While the quality may not reach the level of in-house data labeling, it surpasses that of crowdsourcing. This method is suitable for projects with limited funding but requiring a certain level of expertise. One notable advantage of outsourcing is the ability to pre-evaluate individuals' skills before assigning tasks, contributing to better quality control."
   ]
  },
  {
   "cell_type": "markdown",
   "id": "ce3d3e91",
   "metadata": {},
   "source": [
    "3. Explain the main differences between annotation for image classification, object detection and image segmentation."
   ]
  },
  {
   "cell_type": "markdown",
   "id": "53e5046c",
   "metadata": {},
   "source": [
    "Image classification entails assigning a label (one of multiple) to the entire image. In object detection, the focus is on identifying and locating objects within an image through the use of bounding boxes, with each bounding box accompanied by a label. Image segmentation, on the other hand, strives to distinguish objects from both the background and other objects in the image. This process usually results in images of the original size, where pixels are assigned a value of 1 if the object is present and 0 otherwise."
   ]
  },
  {
   "cell_type": "code",
   "execution_count": null,
   "id": "8bd855ae",
   "metadata": {},
   "outputs": [],
   "source": []
  }
 ],
 "metadata": {
  "kernelspec": {
   "display_name": "Python 3 (ipykernel)",
   "language": "python",
   "name": "python3"
  },
  "language_info": {
   "codemirror_mode": {
    "name": "ipython",
    "version": 3
   },
   "file_extension": ".py",
   "mimetype": "text/x-python",
   "name": "python",
   "nbconvert_exporter": "python",
   "pygments_lexer": "ipython3",
   "version": "3.11.5"
  }
 },
 "nbformat": 4,
 "nbformat_minor": 5
}
