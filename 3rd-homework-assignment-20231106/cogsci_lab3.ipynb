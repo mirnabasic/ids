{
 "cells": [
  {
   "cell_type": "code",
   "execution_count": 3,
   "id": "f7ff933a",
   "metadata": {},
   "outputs": [],
   "source": [
    "import pandas as pd\n",
    "import numpy as np\n",
    "import matplotlib.pyplot as plt\n",
    "import seaborn as sns"
   ]
  },
  {
   "cell_type": "markdown",
   "id": "197ee7ed",
   "metadata": {},
   "source": [
    "1. Load the cleaned dataset from the last exercise. If you haven't saved the dataset, rerun the exercise and save the final dataset."
   ]
  },
  {
   "cell_type": "code",
   "execution_count": 15,
   "id": "9f557bbd",
   "metadata": {},
   "outputs": [
    {
     "data": {
      "text/plain": [
       "Index(['index', 'Unnamed: 0', 'StudentId', 'Gender', 'EthnicGroup',\n",
       "       'ParentEduc', 'LunchType', 'TestPrep', 'ParentMaritalStatus',\n",
       "       'PracticeSport', 'IsFirstChild', 'NrSiblings', 'TransportMeans',\n",
       "       'WklyStudyHours', 'MathScore', 'ReadingScore', 'WritingScore',\n",
       "       'Gender_female', 'Gender_male', 'LunchType_free/reduced',\n",
       "       'LunchType_standard', 'EthnicGroup_Label', 'ParentEduc_Label',\n",
       "       'TestPrep_Label', 'ParentMaritalStatus_Label', 'PracticeSport_Label',\n",
       "       'IsFirstChild_Label', 'TransportMeans_Label', 'WklyStudyHours_Label'],\n",
       "      dtype='object')"
      ]
     },
     "execution_count": 15,
     "metadata": {},
     "output_type": "execute_result"
    }
   ],
   "source": [
    "X = pd.read_csv(\"cleaned_students_score2.csv\")\n",
    "X.columns"
   ]
  },
  {
   "cell_type": "markdown",
   "id": "ab354785",
   "metadata": {},
   "source": [
    "2. a) Find the mean, median and average scores in mathematics, reading and writing.\n",
    "b) Find the mean, median and average scores for males and females.\n",
    "c) What is the coefficient of variation of the scores?"
   ]
  },
  {
   "cell_type": "markdown",
   "id": "b40ffbeb",
   "metadata": {},
   "source": [
    "sto su average scores?"
   ]
  },
  {
   "cell_type": "code",
   "execution_count": 12,
   "id": "ed36fe06",
   "metadata": {},
   "outputs": [
    {
     "data": {
      "text/plain": [
       "MathScore       66.559948\n",
       "ReadingScore    69.390081\n",
       "WritingScore    68.429337\n",
       "dtype: float64"
      ]
     },
     "execution_count": 12,
     "metadata": {},
     "output_type": "execute_result"
    }
   ],
   "source": [
    "X[[\"MathScore\", \"ReadingScore\", \"WritingScore\"]].mean()"
   ]
  },
  {
   "cell_type": "code",
   "execution_count": 36,
   "id": "01f5deb9",
   "metadata": {},
   "outputs": [
    {
     "data": {
      "text/plain": [
       "MathScore       67.0\n",
       "ReadingScore    70.0\n",
       "WritingScore    69.0\n",
       "dtype: float64"
      ]
     },
     "execution_count": 36,
     "metadata": {},
     "output_type": "execute_result"
    }
   ],
   "source": [
    "X[[\"MathScore\", \"ReadingScore\", \"WritingScore\"]].median()"
   ]
  },
  {
   "cell_type": "code",
   "execution_count": 80,
   "id": "32685c63",
   "metadata": {},
   "outputs": [
    {
     "data": {
      "text/plain": [
       "Gender\n",
       "female    64.119419\n",
       "male      69.038488\n",
       "Name: MathScore, dtype: float64"
      ]
     },
     "execution_count": 80,
     "metadata": {},
     "output_type": "execute_result"
    }
   ],
   "source": [
    "X.groupby('Gender')['MathScore'].mean()"
   ]
  },
  {
   "cell_type": "code",
   "execution_count": 81,
   "id": "9e5d817a",
   "metadata": {},
   "outputs": [
    {
     "data": {
      "text/plain": [
       "Gender\n",
       "female    72.900825\n",
       "male      65.824657\n",
       "Name: ReadingScore, dtype: float64"
      ]
     },
     "execution_count": 81,
     "metadata": {},
     "output_type": "execute_result"
    }
   ],
   "source": [
    "X.groupby('Gender')['ReadingScore'].mean()"
   ]
  },
  {
   "cell_type": "code",
   "execution_count": 13,
   "id": "d13e59d8",
   "metadata": {},
   "outputs": [
    {
     "data": {
      "text/plain": [
       "Gender\n",
       "female    72.899189\n",
       "male      63.889866\n",
       "Name: WritingScore, dtype: float64"
      ]
     },
     "execution_count": 13,
     "metadata": {},
     "output_type": "execute_result"
    }
   ],
   "source": [
    "X.groupby('Gender')['WritingScore'].mean()"
   ]
  },
  {
   "cell_type": "code",
   "execution_count": 48,
   "id": "87603195",
   "metadata": {},
   "outputs": [
    {
     "data": {
      "text/plain": [
       "23.053282736702542"
      ]
     },
     "execution_count": 48,
     "metadata": {},
     "output_type": "execute_result"
    }
   ],
   "source": [
    "X[\"MathScore\"].std() / X.MathScore.mean() * 100"
   ]
  },
  {
   "cell_type": "code",
   "execution_count": 51,
   "id": "bd0ffbb1",
   "metadata": {},
   "outputs": [
    {
     "data": {
      "text/plain": [
       "21.271325834740303"
      ]
     },
     "execution_count": 51,
     "metadata": {},
     "output_type": "execute_result"
    }
   ],
   "source": [
    "X[\"ReadingScore\"].std() / X.ReadingScore.mean() * 100"
   ]
  },
  {
   "cell_type": "code",
   "execution_count": 52,
   "id": "43cbc3e4",
   "metadata": {},
   "outputs": [
    {
     "data": {
      "text/plain": [
       "22.574844991058495"
      ]
     },
     "execution_count": 52,
     "metadata": {},
     "output_type": "execute_result"
    }
   ],
   "source": [
    "X[\"WritingScore\"].std() / X.WritingScore.mean() * 100"
   ]
  },
  {
   "cell_type": "code",
   "execution_count": 53,
   "id": "96a9c4be",
   "metadata": {},
   "outputs": [
    {
     "data": {
      "text/plain": [
       "99.23192232116615"
      ]
     },
     "execution_count": 53,
     "metadata": {},
     "output_type": "execute_result"
    }
   ],
   "source": [
    "X[\"Gender_female\"].std() / X.Gender_female.mean() * 100"
   ]
  },
  {
   "cell_type": "code",
   "execution_count": 17,
   "id": "d6bda23d",
   "metadata": {},
   "outputs": [
    {
     "data": {
      "text/plain": [
       "100.7774838968454"
      ]
     },
     "execution_count": 17,
     "metadata": {},
     "output_type": "execute_result"
    }
   ],
   "source": [
    "X[\"Gender_male\"].std() / X.Gender_male.mean() * 100"
   ]
  },
  {
   "cell_type": "markdown",
   "id": "bc5dc12a",
   "metadata": {},
   "source": [
    "3. a) Use a statistical test to test the hypothesis: H0: the mean mathematical scores of females and males are equal."
   ]
  },
  {
   "cell_type": "code",
   "execution_count": 18,
   "id": "50b4b85d",
   "metadata": {},
   "outputs": [
    {
     "name": "stdout",
     "output_type": "stream",
     "text": [
      "stat=767.757, p=0.000\n",
      "the mean mathematical scores of females and males are not equal\n"
     ]
    }
   ],
   "source": [
    "from scipy.stats import f_oneway\n",
    "female_scores = X[X['Gender'] == 'female']['MathScore']\n",
    "male_scores = X[X['Gender'] == 'male']['MathScore']\n",
    "stat, p = f_oneway(female_scores, male_scores)\n",
    "print('stat=%.3f, p=%.3f' % (stat, p))\n",
    "if p > 0.05:\n",
    "\tprint('the mean mathematical scores of females and males are equal')\n",
    "else:\n",
    "\tprint('the mean mathematical scores of females and males are not equal')"
   ]
  },
  {
   "cell_type": "markdown",
   "id": "70855546",
   "metadata": {},
   "source": [
    "4. a) Use a statistical test to test the hypothesis:\n",
    "H0 Gender did not affect the writing scores.\n",
    "H1 Gender affected the writing score.\n",
    "\n"
   ]
  },
  {
   "cell_type": "code",
   "execution_count": 19,
   "id": "e774c913",
   "metadata": {},
   "outputs": [],
   "source": [
    "from scipy import stats"
   ]
  },
  {
   "cell_type": "code",
   "execution_count": 20,
   "id": "81a3e8ef",
   "metadata": {},
   "outputs": [
    {
     "name": "stdout",
     "output_type": "stream",
     "text": [
      "T-statistic: 52.01694529394566\n",
      "P-value: 0.0\n",
      "Reject the null hypothesis: Gender affects the writing score.\n"
     ]
    }
   ],
   "source": [
    "female_scores = X[X['Gender'] == 'female']['WritingScore']\n",
    "male_scores = X[X['Gender'] == 'male']['WritingScore']\n",
    "t_statistic, p_value = stats.ttest_ind(female_scores, male_scores)\n",
    "alpha = 0.05\n",
    "print(\"T-statistic:\", t_statistic)\n",
    "print(\"P-value:\", p_value)\n",
    "if p_value < alpha:\n",
    "    print(\"Reject the null hypothesis: Gender affects the writing score.\")\n",
    "else:\n",
    "    print(\"Fail to reject the null hypothesis: Gender did not affect the writing score.\")"
   ]
  },
  {
   "cell_type": "code",
   "execution_count": 21,
   "id": "e48b849b",
   "metadata": {},
   "outputs": [
    {
     "data": {
      "text/plain": [
       "LeveneResult(statistic=1.6658087333389284, pvalue=0.19683111067146783)"
      ]
     },
     "execution_count": 21,
     "metadata": {},
     "output_type": "execute_result"
    }
   ],
   "source": [
    "female_scores = X[X['Gender'] == 'female']['WritingScore']\n",
    "male_scores = X[X['Gender'] == 'male']['WritingScore']\n",
    "stats.levene(female_scores, male_scores)"
   ]
  },
  {
   "cell_type": "markdown",
   "id": "c46fde23",
   "metadata": {},
   "source": [
    "5. a) Statisticaly test the distribuitions of female and male scores across the three scores columns.<br>\n",
    "b) Plot the distributions for each of the separate scores in both genders. <br>"
   ]
  },
  {
   "cell_type": "code",
   "execution_count": 22,
   "id": "7a30aad6",
   "metadata": {},
   "outputs": [
    {
     "name": "stdout",
     "output_type": "stream",
     "text": [
      "stat=2412.856, p=0.000\n",
      "Probably different distributions\n"
     ]
    }
   ],
   "source": [
    "from scipy.stats import kruskal\n",
    "female_scores = X[X['Gender'] == 'female']['WritingScore']\n",
    "male_scores = X[X['Gender'] == 'male']['WritingScore']\n",
    "stat, p = kruskal(female_scores, male_scores)\n",
    "print('stat=%.3f, p=%.3f' % (stat, p))\n",
    "if p > 0.05:\n",
    "\tprint('Probably the same distribution')\n",
    "else:\n",
    "\tprint('Probably different distributions')"
   ]
  },
  {
   "cell_type": "code",
   "execution_count": 23,
   "id": "cf627a7b",
   "metadata": {},
   "outputs": [
    {
     "name": "stdout",
     "output_type": "stream",
     "text": [
      "stat=698.353, p=0.000\n",
      "Probably different distributions\n"
     ]
    }
   ],
   "source": [
    "female_scores = X[X['Gender'] == 'female']['MathScore']\n",
    "male_scores = X[X['Gender'] == 'male']['MathScore']\n",
    "stat, p = kruskal(female_scores, male_scores)\n",
    "print('stat=%.3f, p=%.3f' % (stat, p))\n",
    "if p > 0.05:\n",
    "\tprint('Probably the same distribution')\n",
    "else:\n",
    "\tprint('Probably different distributions')"
   ]
  },
  {
   "cell_type": "code",
   "execution_count": 124,
   "id": "ac9b1771",
   "metadata": {},
   "outputs": [
    {
     "name": "stdout",
     "output_type": "stream",
     "text": [
      "stat=1616.634, p=0.000\n",
      "Probably different distributions\n"
     ]
    }
   ],
   "source": [
    "female_scores = X[X['Gender'] == 'female']['ReadingScore']\n",
    "male_scores = X[X['Gender'] == 'male']['ReadingScore']\n",
    "stat, p = kruskal(female_scores, male_scores)\n",
    "print('stat=%.3f, p=%.3f' % (stat, p))\n",
    "if p > 0.05:\n",
    "\tprint('Probably the same distribution')\n",
    "else:\n",
    "\tprint('Probably different distributions')"
   ]
  },
  {
   "cell_type": "code",
   "execution_count": null,
   "id": "d55192cb",
   "metadata": {},
   "outputs": [],
   "source": [
    "import pandas as pd\n",
    "import matplotlib.pyplot as plt\n",
    "import seaborn as sns"
   ]
  },
  {
   "cell_type": "code",
   "execution_count": 24,
   "id": "77c49b36",
   "metadata": {},
   "outputs": [
    {
     "data": {
      "image/png": "[encoded data removed]",
      "text/plain": [
       "<Figure size 800x600 with 1 Axes>"
      ]
     },
     "metadata": {},
     "output_type": "display_data"
    },
    {
     "data": {
      "image/png": "[encoded data removed]",
      "text/plain": [
       "<Figure size 800x600 with 1 Axes>"
      ]
     },
     "metadata": {},
     "output_type": "display_data"
    },
    {
     "data": {
      "image/png": "[encoded data removed]",
      "text/plain": [
       "<Figure size 800x600 with 1 Axes>"
      ]
     },
     "metadata": {},
     "output_type": "display_data"
    }
   ],
   "source": [
    "sns.set(style=\"whitegrid\")\n",
    "\n",
    "for score_column in ['MathScore', 'ReadingScore', 'WritingScore']:\n",
    "    plt.figure(figsize=(8, 6))\n",
    "    sns.boxplot(x='Gender', y=score_column, data=X)\n",
    "    plt.title(f'Distribution of {score_column} by Gender')\n",
    "    plt.xlabel('Gender')\n",
    "    plt.ylabel(score_column)\n",
    "    plt.show()"
   ]
  },
  {
   "cell_type": "code",
   "execution_count": null,
   "id": "ecda5a95",
   "metadata": {},
   "outputs": [],
   "source": []
  }
 ],
 "metadata": {
  "kernelspec": {
   "display_name": "Python 3 (ipykernel)",
   "language": "python",
   "name": "python3"
  },
  "language_info": {
   "codemirror_mode": {
    "name": "ipython",
    "version": 3
   },
   "file_extension": ".py",
   "mimetype": "text/x-python",
   "name": "python",
   "nbconvert_exporter": "python",
   "pygments_lexer": "ipython3",
   "version": "3.11.5"
  }
 },
 "nbformat": 4,
 "nbformat_minor": 5
}
